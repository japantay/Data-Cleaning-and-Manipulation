{
 "cells": [
  {
   "cell_type": "markdown",
   "metadata": {},
   "source": [
    "Analyse number of users engaging with advertisements to assist developers"
   ]
  },
  {
   "cell_type": "code",
   "execution_count": 1,
   "metadata": {
    "collapsed": true
   },
   "outputs": [],
   "source": [
    "#GOALS\n",
    "#Remove inaccurate data\n",
    "#Remove duplicate app entries\n",
    "#Remove non-English apps\n",
    "#Isolate free apps"
   ]
  },
  {
   "cell_type": "code",
   "execution_count": 2,
   "metadata": {
    "collapsed": false
   },
   "outputs": [],
   "source": [
    "from csv import reader"
   ]
  },
  {
   "cell_type": "code",
   "execution_count": 3,
   "metadata": {
    "collapsed": false
   },
   "outputs": [],
   "source": [
    "#define a function that loops through each row of the defined dataset\n",
    "#and prints the rows\n",
    "def explore_data(dataset, start, end, rows_and_columns=False):\n",
    "    dataset_slice = dataset[start:end]\n",
    "    for row in dataset_slice:\n",
    "        print (row)\n",
    "        print ('\\n')\n",
    "        \n",
    "    if rows_and_columns:\n",
    "        print ('Number of rows:', len(dataset))\n",
    "        print ('Number of columns:', len(dataset[0]))\n",
    "\n",
    "\n",
    "\n"
   ]
  },
  {
   "cell_type": "code",
   "execution_count": 4,
   "metadata": {
    "collapsed": false
   },
   "outputs": [],
   "source": [
    "#open the datasets and assign to variables as list of lists\n",
    "\n",
    "openapplefile = open('AppleStore.csv')\n",
    "readapplefile = reader(openapplefile)\n",
    "apple_data1 = list(readapplefile)\n",
    "apple_data = apple_data1[1:]\n",
    "\n",
    "openandroidfile = open('googleplaystore.csv')\n",
    "readandroidfile = reader(openandroidfile)\n",
    "android_data1 = list(readandroidfile)\n",
    "android_data = android_data1[1:]"
   ]
  },
  {
   "cell_type": "code",
   "execution_count": 5,
   "metadata": {
    "collapsed": false
   },
   "outputs": [
    {
     "name": "stdout",
     "output_type": "stream",
     "text": [
      "['Photo Editor & Candy Camera & Grid & ScrapBook', 'ART_AND_DESIGN', '4.1', '159', '19M', '10,000+', 'Free', '0', 'Everyone', 'Art & Design', 'January 7, 2018', '1.0.0', '4.0.3 and up']\n",
      "\n",
      "\n",
      "['Coloring book moana', 'ART_AND_DESIGN', '3.9', '967', '14M', '500,000+', 'Free', '0', 'Everyone', 'Art & Design;Pretend Play', 'January 15, 2018', '2.0.0', '4.0.3 and up']\n",
      "\n",
      "\n",
      "Number of rows: 10841\n",
      "Number of columns: 13\n"
     ]
    }
   ],
   "source": [
    "#call the explore data function to print the header rows for inspection.\n",
    "explore_data(android_data,0,2,True)"
   ]
  },
  {
   "cell_type": "code",
   "execution_count": 6,
   "metadata": {
    "collapsed": false
   },
   "outputs": [
    {
     "name": "stdout",
     "output_type": "stream",
     "text": [
      "['Instagram', 'SOCIAL', '4.5', '66577313', 'Varies with device', '1,000,000,000+', 'Free', '0', 'Teen', 'Social', 'July 31, 2018', 'Varies with device', 'Varies with device']\n",
      "['Instagram', 'SOCIAL', '4.5', '66577446', 'Varies with device', '1,000,000,000+', 'Free', '0', 'Teen', 'Social', 'July 31, 2018', 'Varies with device', 'Varies with device']\n",
      "['Instagram', 'SOCIAL', '4.5', '66577313', 'Varies with device', '1,000,000,000+', 'Free', '0', 'Teen', 'Social', 'July 31, 2018', 'Varies with device', 'Varies with device']\n",
      "['Instagram', 'SOCIAL', '4.5', '66509917', 'Varies with device', '1,000,000,000+', 'Free', '0', 'Teen', 'Social', 'July 31, 2018', 'Varies with device', 'Varies with device']\n"
     ]
    }
   ],
   "source": [
    "for app in android_data:\n",
    "    name = app[0]\n",
    "    if 'Instagram'in app:\n",
    "        print(app)"
   ]
  },
  {
   "cell_type": "code",
   "execution_count": 7,
   "metadata": {
    "collapsed": false
   },
   "outputs": [
    {
     "data": {
      "text/plain": [
       "1181"
      ]
     },
     "execution_count": 7,
     "metadata": {},
     "output_type": "execute_result"
    }
   ],
   "source": [
    "repeat_app = []\n",
    "unique_app = []\n",
    "\n",
    "for app in android_data:\n",
    "    name = app[0]\n",
    "    if name in unique_app:\n",
    "        repeat_app.append(name)\n",
    "    else:\n",
    "        unique_app.append(name)\n",
    "    \n",
    "len(repeat_app)\n",
    "    \n",
    "    "
   ]
  },
  {
   "cell_type": "code",
   "execution_count": 8,
   "metadata": {
    "collapsed": false
   },
   "outputs": [
    {
     "data": {
      "text/plain": [
       "9660"
      ]
     },
     "execution_count": 8,
     "metadata": {},
     "output_type": "execute_result"
    }
   ],
   "source": [
    "# Create a dictionary to select duplicate entries to be retained\n",
    "retain_repeat = {} \n",
    "#use for loop to inspect each element of the list of lists android data\n",
    "for app in android_data:\n",
    "#define a variable name for the first item in each list in android data\n",
    "    name = app[0]\n",
    "#define a variable name for the number of reviews in each list\n",
    "    reviewscount = app[3]\n",
    "#write if statement to check if app name and review count are \n",
    "#within dictionary, if so, retain the entry with highest count\n",
    "    if name in retain_repeat and reviewscount < retain_repeat[name]:\n",
    "        retain_repeat[name] = reviewscount\n",
    "    elif name not in retain_repeat:\n",
    "        retain_repeat[name] = reviewscount\n",
    "    \n",
    "len(retain_repeat)\n"
   ]
  },
  {
   "cell_type": "code",
   "execution_count": 9,
   "metadata": {
    "collapsed": false
   },
   "outputs": [
    {
     "data": {
      "text/plain": [
       "9660"
      ]
     },
     "execution_count": 9,
     "metadata": {},
     "output_type": "execute_result"
    }
   ],
   "source": [
    "#create a new list of lists for cleaned data\n",
    "androidcleandata = []\n",
    "#create a new list to hold names of apps already cleaned\n",
    "androidalreadyadded = []\n",
    "#use for loop to inspect each element of the list of lists android data\n",
    "for app in android_data:\n",
    "#define a variable name for the first item in each list in android data\n",
    "    name = app[0]\n",
    "#define a variable name for the number of reviews in each list\n",
    "    numreviews = app[3]\n",
    "#use the if loop to check each list element is in the alreadyadded list\n",
    "#and to check each element of the list of lists has a number of \n",
    "#reviews is equivalent to the max number of reviews as stored\n",
    "#in the retain_repeat dictionary so as to keep a single element\n",
    "#only, thus acting as a filter\n",
    "\n",
    "    if (name not in androidalreadyadded) and (retain_repeat[name] == numreviews):\n",
    "        androidcleandata.append(app)\n",
    "        androidalreadyadded.append(name)\n",
    "        \n",
    "\n",
    "len(androidcleandata)  \n",
    "    \n",
    "    \n",
    "    "
   ]
  },
  {
   "cell_type": "code",
   "execution_count": 10,
   "metadata": {
    "collapsed": false
   },
   "outputs": [
    {
     "name": "stdout",
     "output_type": "stream",
     "text": [
      "['Photo Editor & Candy Camera & Grid & ScrapBook', 'ART_AND_DESIGN', '4.1', '159', '19M', '10,000+', 'Free', '0', 'Everyone', 'Art & Design', 'January 7, 2018', '1.0.0', '4.0.3 and up']\n",
      "\n",
      "\n",
      "['Coloring book moana', 'ART_AND_DESIGN', '3.9', '967', '14M', '500,000+', 'Free', '0', 'Everyone', 'Art & Design;Pretend Play', 'January 15, 2018', '2.0.0', '4.0.3 and up']\n",
      "\n",
      "\n",
      "['U Launcher Lite – FREE Live Cool Themes, Hide Apps', 'ART_AND_DESIGN', '4.7', '87510', '8.7M', '5,000,000+', 'Free', '0', 'Everyone', 'Art & Design', 'August 1, 2018', '1.2.4', '4.0.3 and up']\n",
      "\n",
      "\n",
      "Number of rows: 9660\n",
      "Number of columns: 13\n"
     ]
    }
   ],
   "source": [
    "#check the format, layout and output of the new cleaned data to\n",
    "#ensure correctness\n",
    "explore_data(androidcleandata, 0, 3, True)"
   ]
  },
  {
   "cell_type": "code",
   "execution_count": 11,
   "metadata": {
    "collapsed": false
   },
   "outputs": [],
   "source": [
    "#create a function to check app names for non-ascii characters\n",
    "#using a simple counter, if counter exceeds 3, returns FALSE\n",
    "#meaning non-ascii app name\n",
    "def ascii_check(string):\n",
    "    non_ascii=0\n",
    "    for character in string:\n",
    "        if ord(character) > 127:\n",
    "            non_ascii +=1\n",
    "        \n",
    "        if non_ascii > 3:\n",
    "            return False\n",
    "        else:\n",
    "            return True"
   ]
  },
  {
   "cell_type": "code",
   "execution_count": 12,
   "metadata": {
    "collapsed": false
   },
   "outputs": [
    {
     "name": "stdout",
     "output_type": "stream",
     "text": [
      "True\n"
     ]
    }
   ],
   "source": [
    "print(ascii_check('nstacha'))"
   ]
  },
  {
   "cell_type": "code",
   "execution_count": 13,
   "metadata": {
    "collapsed": false
   },
   "outputs": [],
   "source": [
    "androidenglish=[]\n",
    "\n",
    "for app in androidcleandata:\n",
    "    name=app[0]\n",
    "    if ascii_check(name) is True:\n",
    "        androidenglish.append(app)\n",
    "#THIS STEP HASN'T WORKED AS EXPECTED, THE LIST OF LISTS \n",
    "#STILL HAS 9660 ELEMENTS TO IT I.E. NONE HAVE BEEN DELETED"
   ]
  },
  {
   "cell_type": "code",
   "execution_count": 14,
   "metadata": {
    "collapsed": false
   },
   "outputs": [
    {
     "name": "stdout",
     "output_type": "stream",
     "text": [
      "['Photo Editor & Candy Camera & Grid & ScrapBook', 'ART_AND_DESIGN', '4.1', '159', '19M', '10,000+', 'Free', '0', 'Everyone', 'Art & Design', 'January 7, 2018', '1.0.0', '4.0.3 and up']\n",
      "\n",
      "\n",
      "['Coloring book moana', 'ART_AND_DESIGN', '3.9', '967', '14M', '500,000+', 'Free', '0', 'Everyone', 'Art & Design;Pretend Play', 'January 15, 2018', '2.0.0', '4.0.3 and up']\n",
      "\n",
      "\n",
      "['U Launcher Lite – FREE Live Cool Themes, Hide Apps', 'ART_AND_DESIGN', '4.7', '87510', '8.7M', '5,000,000+', 'Free', '0', 'Everyone', 'Art & Design', 'August 1, 2018', '1.2.4', '4.0.3 and up']\n",
      "\n",
      "\n",
      "Number of rows: 9660\n",
      "Number of columns: 13\n"
     ]
    }
   ],
   "source": [
    "explore_data(androidenglish, 0, 3, True)"
   ]
  },
  {
   "cell_type": "code",
   "execution_count": 15,
   "metadata": {
    "collapsed": false
   },
   "outputs": [],
   "source": [
    "androidfinaldata = []\n",
    "\n",
    "for app in androidenglish:\n",
    "    price = app[7]\n",
    "    if price == '0':\n",
    "        androidfinaldata.append(app)"
   ]
  },
  {
   "cell_type": "code",
   "execution_count": 16,
   "metadata": {
    "collapsed": false
   },
   "outputs": [
    {
     "data": {
      "text/plain": [
       "8905"
      ]
     },
     "execution_count": 16,
     "metadata": {},
     "output_type": "execute_result"
    }
   ],
   "source": [
    "len(androidfinaldata)"
   ]
  },
  {
   "cell_type": "code",
   "execution_count": 33,
   "metadata": {
    "collapsed": false
   },
   "outputs": [],
   "source": [
    "#define a function to calculate number of free apps in each genre \n",
    "#and category and then convert that number to a percentage of the\n",
    "#total number of free apps available\n",
    "\n",
    "def genrefrequency(dataset, index):\n",
    "    genrecount = {}\n",
    "    counter = 0\n",
    "    \n",
    "    for row in dataset:\n",
    "        counter += 1\n",
    "        keyname = row[index]\n",
    "        if keyname in genrecount:\n",
    "            genrecount[keyname] += 1\n",
    "        else:\n",
    "            genrecount[keyname] = 1\n",
    "        \n",
    "    genrepercent = {}\n",
    "    for key in genrecount:\n",
    "        percentage = (genrecount[key] / counter) * 100\n",
    "        genrepercent[key] = percentage\n",
    "        \n",
    "    return genrepercent\n",
    "\n"
   ]
  },
  {
   "cell_type": "code",
   "execution_count": 34,
   "metadata": {
    "collapsed": false
   },
   "outputs": [
    {
     "data": {
      "text/plain": [
       "{'ART_AND_DESIGN': 0.6850084222346996,\n",
       " 'AUTO_AND_VEHICLES': 0.9208309938236946,\n",
       " 'BEAUTY': 0.5951712521055587,\n",
       " 'BOOKS_AND_REFERENCE': 2.1785513756316677,\n",
       " 'BUSINESS': 4.570466030320045,\n",
       " 'COMICS': 0.6288601909039866,\n",
       " 'COMMUNICATION': 3.245367770915216,\n",
       " 'DATING': 1.8528916339135317,\n",
       " 'EDUCATION': 1.2464907355418304,\n",
       " 'ENTERTAINMENT': 1.0331274564851207,\n",
       " 'EVENTS': 0.7074677147669848,\n",
       " 'FAMILY': 18.84334643458731,\n",
       " 'FINANCE': 3.6833239752947784,\n",
       " 'FOOD_AND_DRINK': 1.235261089275688,\n",
       " 'GAME': 9.635036496350365,\n",
       " 'HEALTH_AND_FITNESS': 3.0544637843907916,\n",
       " 'HOUSE_AND_HOME': 0.8309938236945535,\n",
       " 'LIBRARIES_AND_DEMO': 0.9320606400898372,\n",
       " 'LIFESTYLE': 3.9303761931499155,\n",
       " 'MAPS_AND_NAVIGATION': 1.4149354295339696,\n",
       " 'MEDICAL': 3.5261089275687816,\n",
       " 'NEWS_AND_MAGAZINES': 2.829870859067939,\n",
       " 'PARENTING': 0.6513194834362718,\n",
       " 'PERSONALIZATION': 3.312745648512072,\n",
       " 'PHOTOGRAPHY': 2.9421673217293653,\n",
       " 'PRODUCTIVITY': 3.885457608085345,\n",
       " 'SHOPPING': 2.2459292532285233,\n",
       " 'SOCIAL': 2.6501965188096577,\n",
       " 'SPORTS': 3.402582818641213,\n",
       " 'TOOLS': 8.422234699606962,\n",
       " 'TRAVEL_AND_LOCAL': 2.3245367770915215,\n",
       " 'VIDEO_PLAYERS': 1.785513756316676,\n",
       " 'WEATHER': 0.7973048848961257}"
      ]
     },
     "execution_count": 34,
     "metadata": {},
     "output_type": "execute_result"
    }
   ],
   "source": [
    "genrefrequency(androidfinaldata, 1)"
   ]
  },
  {
   "cell_type": "code",
   "execution_count": 35,
   "metadata": {
    "collapsed": false
   },
   "outputs": [],
   "source": [
    "#define a function that displays all the calculated values above \n",
    "#in descending order\n",
    "#P.S. this could probably be more efficient by directly accessing\n",
    "#the percentages dictionary above\n",
    "\n",
    "def displayfreqdescent(dataset, index):\n",
    "    newtable = genrefrequency(dataset, index)\n",
    "    displayedtable = []\n",
    "    for eachkey in newtable:\n",
    "        eachkeyastuple = (newtable[eachkey], eachkey)\n",
    "        displayedtable.append(eachkeyastuple)\n",
    "        sorteddisplaytable = sorted(displayedtable, reverse = True)\n",
    "        \n",
    "    for entry in sorteddisplaytable:\n",
    "        print(entry[1], ':', entry[0])"
   ]
  },
  {
   "cell_type": "code",
   "execution_count": 36,
   "metadata": {
    "collapsed": false
   },
   "outputs": [
    {
     "name": "stdout",
     "output_type": "stream",
     "text": [
      "FAMILY : 18.84334643458731\n",
      "GAME : 9.635036496350365\n",
      "TOOLS : 8.422234699606962\n",
      "BUSINESS : 4.570466030320045\n",
      "LIFESTYLE : 3.9303761931499155\n",
      "PRODUCTIVITY : 3.885457608085345\n",
      "FINANCE : 3.6833239752947784\n",
      "MEDICAL : 3.5261089275687816\n",
      "SPORTS : 3.402582818641213\n",
      "PERSONALIZATION : 3.312745648512072\n",
      "COMMUNICATION : 3.245367770915216\n",
      "HEALTH_AND_FITNESS : 3.0544637843907916\n",
      "PHOTOGRAPHY : 2.9421673217293653\n",
      "NEWS_AND_MAGAZINES : 2.829870859067939\n",
      "SOCIAL : 2.6501965188096577\n",
      "TRAVEL_AND_LOCAL : 2.3245367770915215\n",
      "SHOPPING : 2.2459292532285233\n",
      "BOOKS_AND_REFERENCE : 2.1785513756316677\n",
      "DATING : 1.8528916339135317\n",
      "VIDEO_PLAYERS : 1.785513756316676\n",
      "MAPS_AND_NAVIGATION : 1.4149354295339696\n",
      "EDUCATION : 1.2464907355418304\n",
      "FOOD_AND_DRINK : 1.235261089275688\n",
      "ENTERTAINMENT : 1.0331274564851207\n",
      "LIBRARIES_AND_DEMO : 0.9320606400898372\n",
      "AUTO_AND_VEHICLES : 0.9208309938236946\n",
      "HOUSE_AND_HOME : 0.8309938236945535\n",
      "WEATHER : 0.7973048848961257\n",
      "EVENTS : 0.7074677147669848\n",
      "ART_AND_DESIGN : 0.6850084222346996\n",
      "PARENTING : 0.6513194834362718\n",
      "COMICS : 0.6288601909039866\n",
      "BEAUTY : 0.5951712521055587\n"
     ]
    }
   ],
   "source": [
    "displayfreqdescent(androidfinaldata, 1)"
   ]
  },
  {
   "cell_type": "code",
   "execution_count": null,
   "metadata": {
    "collapsed": true
   },
   "outputs": [],
   "source": []
  }
 ],
 "metadata": {
  "kernelspec": {
   "display_name": "Python 3",
   "language": "python",
   "name": "python3"
  },
  "language_info": {
   "codemirror_mode": {
    "name": "ipython",
    "version": 3
   },
   "file_extension": ".py",
   "mimetype": "text/x-python",
   "name": "python",
   "nbconvert_exporter": "python",
   "pygments_lexer": "ipython3",
   "version": "3.4.3"
  }
 },
 "nbformat": 4,
 "nbformat_minor": 2
}
